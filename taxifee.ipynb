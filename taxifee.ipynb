{
 "cells": [
  {
   "cell_type": "code",
   "execution_count": 4,
   "id": "0a16c9a3-96c5-4ab0-9bc8-a807698b05f5",
   "metadata": {},
   "outputs": [
    {
     "name": "stdin",
     "output_type": "stream",
     "text": [
      "xe minh chay dc so km la:  20\n"
     ]
    },
    {
     "name": "stdout",
     "output_type": "stream",
     "text": [
      "so tien ban phai tra la:  54\n"
     ]
    }
   ],
   "source": [
    "x = int(input('xe minh chay dc so km la: '))\n",
    "sotien = 0\n",
    "for i in range (1, x+1):\n",
    "    if i == 1:\n",
    "        sotien = 9\n",
    "    elif 2 <= i <= 5:\n",
    "        sotien += 4\n",
    "    elif 6 <= i <= 19:\n",
    "        sotien += 2\n",
    "    else:\n",
    "        sotien +=1\n",
    "print ('so tien ban phai tra la: ',sotien)"
   ]
  },
  {
   "cell_type": "code",
   "execution_count": null,
   "id": "f00277d3-5828-49dd-979e-de83429431c9",
   "metadata": {},
   "outputs": [],
   "source": []
  }
 ],
 "metadata": {
  "kernelspec": {
   "display_name": "Python [conda env:base] *",
   "language": "python",
   "name": "conda-base-py"
  },
  "language_info": {
   "codemirror_mode": {
    "name": "ipython",
    "version": 3
   },
   "file_extension": ".py",
   "mimetype": "text/x-python",
   "name": "python",
   "nbconvert_exporter": "python",
   "pygments_lexer": "ipython3",
   "version": "3.13.5"
  }
 },
 "nbformat": 4,
 "nbformat_minor": 5
}
